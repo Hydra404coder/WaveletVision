import cv2
import numpy as np
import pywt
import matplotlib.pyplot as plt
from ipywidgets import interact, IntSlider, Dropdown, VBox, HBox, Output
from google.colab import files
from io import BytesIO
from PIL import Image

# Upload grayscale image
def upload_and_load_image():
    print("Upload an image file (jpg/png):")
    uploaded = files.upload()
    fname = list(uploaded.keys())[0]
    print(f"Loaded file: {fname}")
    file_bytes = BytesIO(uploaded[fname])
    pil_img = Image.open(file_bytes).convert('L')  # grayscale
    img = np.array(pil_img)
    return img

img = upload_and_load_image()

# Define wavelets to include
wavelets = ['haar', 'db1', 'db2', 'sym2', 'coif1', 'bior1.3']

# Prepare a cache to hold decompositions for faster interactive use
decomposition_cache = {}

def compute_decomposition(img, wavelet_name, max_level=2):
    # Perform multilevel DWT decomposition
    coeffs = pywt.wavedec2(img, wavelet_name, level=max_level)
    return coeffs

# Compute decompositions for all wavelets and cache them
for wname in wavelets:
    try:
        decomposition_cache[wname] = compute_decomposition(img, wname, max_level=2)
    except Exception as e:
        print(f"Error computing decomposition for {wname}: {e}")

# Helper to extract sub-band from coeffs
def get_subband(coeffs, level, component):
    # coeffs = [LLn, (LHn, HLn, HHn), ..., (LH1, HL1, HH1)]
    # level: 1 or 2
    if level == 2:
        if component == 'LL':
            return coeffs[0]  # LL at deepest level
        else:
            return coeffs[1][{'LH':0, 'HL':1, 'HH':2}[component]]  # level 2 details
    elif level == 1:
        return coeffs[2][{'LH':0, 'HL':1, 'HH':2}[component]]  # level 1 details

# Function to compute FFT magnitude spectrum for frequency domain visualization
def compute_fft_magnitude(image):
    f = np.fft.fft2(image)
    fshift = np.fft.fftshift(f)
    magnitude_spectrum = 20*np.log(np.abs(fshift) + 1e-8)  # avoid log(0)
    return magnitude_spectrum

# Function to plot all info interactively
def plot_wavelet_analysis(wavelet_name='haar', level=1, component='LL'):
    if wavelet_name not in decomposition_cache:
        print(f"Wavelet {wavelet_name} not available.")
        return
    coeffs = decomposition_cache[wavelet_name]

    # Extract data
    if component == 'LL':
        if level == 2:
            data = coeffs[0]  # LL at deepest level
        else:
            print("LL component only available at level 2.")
            return
    else:
        data = get_subband(coeffs, level, component)

    # Compute frequency domain representation
    fft_mag = compute_fft_magnitude(data)

    # Calculate energy and variance (texture features)
    energy = np.sum(np.square(data))
    variance = np.var(data)

    # Mean profiles in time domain (spatial)
    mean_x = np.mean(data, axis=0)
    mean_y = np.mean(data, axis=1)

    plt.figure(figsize=(16, 10))

    # 1: Time domain image
    plt.subplot(2, 3, 1)
    plt.imshow(data, cmap='gray')
    plt.title(f'Time Domain (Spatial) Image\nWavelet: {wavelet_name} | Level {level} | {component}')
    plt.axis('off')

    # 2: Frequency domain magnitude spectrum
    plt.subplot(2, 3, 2)
    plt.imshow(fft_mag, cmap='inferno')
    plt.title('Frequency Domain (FFT Magnitude Spectrum)')
    plt.axis('off')

    # 3: Mean profiles plot
    plt.subplot(2, 3, 3)
    plt.plot(mean_x, label='Mean across rows (X-axis)')
    plt.plot(mean_y, label='Mean across cols (Y-axis)')
    plt.title('Mean Coefficient Profiles (Time Domain)')
    plt.xlabel('Index')
    plt.ylabel('Mean Coefficient Value')
    plt.legend()
    plt.grid(True)

    # 4: Histogram of coefficient values
    plt.subplot(2, 3, 4)
    plt.hist(data.ravel(), bins=50, color='c', edgecolor='k')
    plt.title('Histogram of Wavelet Coefficients')
    plt.xlabel('Coefficient value')
    plt.ylabel('Frequency')

    # 5: Display Energy and Variance as text on plot
    plt.subplot(2, 3, 5)
    plt.axis('off')
    stats_text = f"Energy (sum of squares): {energy:.2f}\nVariance: {variance:.2f}"
    plt.text(0.1, 0.5, stats_text, fontsize=14)
    plt.title('Texture Features')

    # 6: Original image for reference
    plt.subplot(2, 3, 6)
    plt.imshow(img, cmap='gray')
    plt.title('Original Image')
    plt.axis('off')

    plt.tight_layout()
    plt.show()

# Show original image for reference
plt.figure(figsize=(5,5))
plt.imshow(img, cmap='gray')
plt.title('Original Grayscale Image')
plt.axis('off')
plt.show()

# Interactive widget controls for user
interact(
    plot_wavelet_analysis,
    wavelet_name=Dropdown(options=wavelets, value=wavelets[0], description='Wavelet'),
    level=IntSlider(min=1, max=2, step=1, value=1, description='Level'),
    component=Dropdown(options=['LL', 'LH', 'HL', 'HH'], value='LL', description='Component')
)
